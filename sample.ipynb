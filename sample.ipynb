{
 "cells": [
  {
   "cell_type": "markdown",
   "id": "0ebd3d7f-967c-4f14-b305-656a88cde627",
   "metadata": {},
   "source": [
    "## Walkthru sample note book"
   ]
  },
  {
   "cell_type": "markdown",
   "id": "66259f2f-aaba-4902-9d5a-42c49a1f347a",
   "metadata": {},
   "source": []
  }
 ],
 "metadata": {
  "kernelspec": {
   "display_name": "Python 3 (ipykernel)",
   "language": "python",
   "name": "python3"
  },
  "language_info": {
   "codemirror_mode": {
    "name": "ipython",
    "version": 3
   },
   "file_extension": ".py",
   "mimetype": "text/x-python",
   "name": "python",
   "nbconvert_exporter": "python",
   "pygments_lexer": "ipython3",
   "version": "3.10.12"
  }
 },
 "nbformat": 4,
 "nbformat_minor": 5
}
