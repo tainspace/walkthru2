{
 "cells": [
  {
   "cell_type": "markdown",
   "id": "0ebd3d7f-967c-4f14-b305-656a88cde627",
   "metadata": {},
   "source": [
    "## Walkthru sample note book"
   ]
  },
  {
   "cell_type": "markdown",
   "id": "66259f2f-aaba-4902-9d5a-42c49a1f347a",
   "metadata": {},
   "source": [
    "Here is how I calculate `1+2`\n"
   ]
  },
  {
   "cell_type": "code",
   "execution_count": 1,
   "id": "aba63778-579a-4760-9435-175f51e158b6",
   "metadata": {},
   "outputs": [
    {
     "data": {
      "text/plain": [
       "3"
      ]
     },
     "execution_count": 1,
     "metadata": {},
     "output_type": "execute_result"
    }
   ],
   "source": [
    "1+2"
   ]
  },
  {
   "cell_type": "code",
   "execution_count": 2,
   "id": "500a9105-2e69-4a52-aa91-daee38936d82",
   "metadata": {},
   "outputs": [
    {
     "ename": "ModuleNotFoundError",
     "evalue": "No module named 'nympy'",
     "output_type": "error",
     "traceback": [
      "\u001b[0;31m---------------------------------------------------------------------------\u001b[0m",
      "\u001b[0;31mModuleNotFoundError\u001b[0m                       Traceback (most recent call last)",
      "Cell \u001b[0;32mIn[2], line 1\u001b[0m\n\u001b[0;32m----> 1\u001b[0m \u001b[38;5;28;01mfrom\u001b[39;00m \u001b[38;5;21;01mnympy\u001b[39;00m \u001b[38;5;28;01mimport\u001b[39;00m \u001b[38;5;241m*\u001b[39m\n",
      "\u001b[0;31mModuleNotFoundError\u001b[0m: No module named 'nympy'"
     ]
    }
   ],
   "source": [
    "from nympy import *"
   ]
  },
  {
   "cell_type": "code",
   "execution_count": null,
   "id": "395d1218-e7b0-476c-ab6d-34f2e8688ae9",
   "metadata": {},
   "outputs": [],
   "source": []
  }
 ],
 "metadata": {
  "kernelspec": {
   "display_name": "Python 3 (ipykernel)",
   "language": "python",
   "name": "python3"
  },
  "language_info": {
   "codemirror_mode": {
    "name": "ipython",
    "version": 3
   },
   "file_extension": ".py",
   "mimetype": "text/x-python",
   "name": "python",
   "nbconvert_exporter": "python",
   "pygments_lexer": "ipython3",
   "version": "3.10.12"
  }
 },
 "nbformat": 4,
 "nbformat_minor": 5
}
